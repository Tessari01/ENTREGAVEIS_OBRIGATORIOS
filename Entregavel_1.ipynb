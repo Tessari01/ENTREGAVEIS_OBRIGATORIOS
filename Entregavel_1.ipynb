{
 "cells": [
  {
   "cell_type": "markdown",
   "metadata": {},
   "source": [
    "- Ao Chamar a função deverá gerar uma janela de alerta.\n",
    "- Exibir a mensagem \"Falha no carregamento da base {base} na etapa{etapa}. \n",
    "- Exibir a data atual.\n",
    "- Exibir \"Alerta Baixo\" quando nivel = 1, \"Alerta Médio\" quando nivel = 2 e \"Alerta Alto\" quando nivel = 3."
   ]
  },
  {
   "cell_type": "code",
   "execution_count": 1,
   "metadata": {},
   "outputs": [],
   "source": [
    "from plyer import notification\n",
    "from datetime import date\n",
    "\n",
    "def alerta(nivel,base,etapa):\n",
    "    nivel = int(nivel)\n",
    "    nivel_str = \"\"\n",
    "    data =''   \n",
    "    if nivel == 1:\n",
    "        nivel_str = \"Alerta Baixo\"\n",
    "    elif nivel == 2:\n",
    "        nivel_str = \"Alerta Médio\"\n",
    "    elif nivel == 3:\n",
    "        nivel_str = \"Alerta Alto\"\n",
    "    else:\n",
    "        msg =(f\"ATENÇÃO: {nivel_str} \\n Falha no carregamento da base {base} na etapa {etapa} na data de {data} \")\n",
    "\n",
    "\n",
    "    notification.notify(\n",
    "        title=nivel_str,\n",
    "        messagen = msg,\n",
    "        app_nome = 'Phthon',\n",
    "        timeout = 10\n",
    "    )\n",
    "\n",
    "   # print(f\"ATENÇÃO: {nivel_str} \\n Falha no carregamento da base {base} na etapa {etapa} na data de {data} \")\n",
    "\n",
    "\n",
    "data = date.today()\n",
    "    "
   ]
  },
  {
   "cell_type": "code",
   "execution_count": 2,
   "metadata": {},
   "outputs": [
    {
     "ename": "UnboundLocalError",
     "evalue": "local variable 'msg' referenced before assignment",
     "output_type": "error",
     "traceback": [
      "\u001b[1;31m---------------------------------------------------------------------------\u001b[0m",
      "\u001b[1;31mUnboundLocalError\u001b[0m                         Traceback (most recent call last)",
      "\u001b[1;32mc:\\Users\\evesb\\OneDrive\\Área de Trabalho\\dev\\11- Coder House Python\\ENTREGAVEIS_OBRIGATORIOS\\Entregavel_1.ipynb Cell 3\u001b[0m line \u001b[0;36m1\n\u001b[1;32m----> <a href='vscode-notebook-cell:/c%3A/Users/evesb/OneDrive/%C3%81rea%20de%20Trabalho/dev/11-%20Coder%20House%20Python/ENTREGAVEIS_OBRIGATORIOS/Entregavel_1.ipynb#W3sZmlsZQ%3D%3D?line=0'>1</a>\u001b[0m alerta(nivel \u001b[39m=\u001b[39;49m \u001b[39m1\u001b[39;49m,base \u001b[39m=\u001b[39;49m \u001b[39m'\u001b[39;49m\u001b[39mquadrado\u001b[39;49m\u001b[39m'\u001b[39;49m,etapa \u001b[39m=\u001b[39;49m \u001b[39m'\u001b[39;49m\u001b[39minicial\u001b[39;49m\u001b[39m'\u001b[39;49m)\n",
      "\u001b[1;32mc:\\Users\\evesb\\OneDrive\\Área de Trabalho\\dev\\11- Coder House Python\\ENTREGAVEIS_OBRIGATORIOS\\Entregavel_1.ipynb Cell 3\u001b[0m line \u001b[0;36m2\n\u001b[0;32m     <a href='vscode-notebook-cell:/c%3A/Users/evesb/OneDrive/%C3%81rea%20de%20Trabalho/dev/11-%20Coder%20House%20Python/ENTREGAVEIS_OBRIGATORIOS/Entregavel_1.ipynb#W3sZmlsZQ%3D%3D?line=13'>14</a>\u001b[0m \u001b[39melse\u001b[39;00m:\n\u001b[0;32m     <a href='vscode-notebook-cell:/c%3A/Users/evesb/OneDrive/%C3%81rea%20de%20Trabalho/dev/11-%20Coder%20House%20Python/ENTREGAVEIS_OBRIGATORIOS/Entregavel_1.ipynb#W3sZmlsZQ%3D%3D?line=14'>15</a>\u001b[0m     msg \u001b[39m=\u001b[39m(\u001b[39mf\u001b[39m\u001b[39m\"\u001b[39m\u001b[39mATENÇÃO: \u001b[39m\u001b[39m{\u001b[39;00mnivel_str\u001b[39m}\u001b[39;00m\u001b[39m \u001b[39m\u001b[39m\\n\u001b[39;00m\u001b[39m Falha no carregamento da base \u001b[39m\u001b[39m{\u001b[39;00mbase\u001b[39m}\u001b[39;00m\u001b[39m na etapa \u001b[39m\u001b[39m{\u001b[39;00metapa\u001b[39m}\u001b[39;00m\u001b[39m na data de \u001b[39m\u001b[39m{\u001b[39;00mdata\u001b[39m}\u001b[39;00m\u001b[39m \u001b[39m\u001b[39m\"\u001b[39m)\n\u001b[0;32m     <a href='vscode-notebook-cell:/c%3A/Users/evesb/OneDrive/%C3%81rea%20de%20Trabalho/dev/11-%20Coder%20House%20Python/ENTREGAVEIS_OBRIGATORIOS/Entregavel_1.ipynb#W3sZmlsZQ%3D%3D?line=17'>18</a>\u001b[0m notification\u001b[39m.\u001b[39mnotify(\n\u001b[0;32m     <a href='vscode-notebook-cell:/c%3A/Users/evesb/OneDrive/%C3%81rea%20de%20Trabalho/dev/11-%20Coder%20House%20Python/ENTREGAVEIS_OBRIGATORIOS/Entregavel_1.ipynb#W3sZmlsZQ%3D%3D?line=18'>19</a>\u001b[0m     title\u001b[39m=\u001b[39mnivel_str,\n\u001b[1;32m---> <a href='vscode-notebook-cell:/c%3A/Users/evesb/OneDrive/%C3%81rea%20de%20Trabalho/dev/11-%20Coder%20House%20Python/ENTREGAVEIS_OBRIGATORIOS/Entregavel_1.ipynb#W3sZmlsZQ%3D%3D?line=19'>20</a>\u001b[0m     messagen \u001b[39m=\u001b[39m msg,\n\u001b[0;32m     <a href='vscode-notebook-cell:/c%3A/Users/evesb/OneDrive/%C3%81rea%20de%20Trabalho/dev/11-%20Coder%20House%20Python/ENTREGAVEIS_OBRIGATORIOS/Entregavel_1.ipynb#W3sZmlsZQ%3D%3D?line=20'>21</a>\u001b[0m     app_nome \u001b[39m=\u001b[39m \u001b[39m'\u001b[39m\u001b[39mPhthon\u001b[39m\u001b[39m'\u001b[39m,\n\u001b[0;32m     <a href='vscode-notebook-cell:/c%3A/Users/evesb/OneDrive/%C3%81rea%20de%20Trabalho/dev/11-%20Coder%20House%20Python/ENTREGAVEIS_OBRIGATORIOS/Entregavel_1.ipynb#W3sZmlsZQ%3D%3D?line=21'>22</a>\u001b[0m     timeout \u001b[39m=\u001b[39m \u001b[39m10\u001b[39m\n\u001b[0;32m     <a href='vscode-notebook-cell:/c%3A/Users/evesb/OneDrive/%C3%81rea%20de%20Trabalho/dev/11-%20Coder%20House%20Python/ENTREGAVEIS_OBRIGATORIOS/Entregavel_1.ipynb#W3sZmlsZQ%3D%3D?line=22'>23</a>\u001b[0m )\n",
      "\u001b[1;31mUnboundLocalError\u001b[0m: local variable 'msg' referenced before assignment"
     ]
    }
   ],
   "source": [
    "alerta(nivel = 1,base = 'quadrado',etapa = 'inicial')\n",
    "\n",
    "\n"
   ]
  }
 ],
 "metadata": {
  "kernelspec": {
   "display_name": "Python 3",
   "language": "python",
   "name": "python3"
  },
  "language_info": {
   "codemirror_mode": {
    "name": "ipython",
    "version": 3
   },
   "file_extension": ".py",
   "mimetype": "text/x-python",
   "name": "python",
   "nbconvert_exporter": "python",
   "pygments_lexer": "ipython3",
   "version": "3.10.7"
  }
 },
 "nbformat": 4,
 "nbformat_minor": 2
}
