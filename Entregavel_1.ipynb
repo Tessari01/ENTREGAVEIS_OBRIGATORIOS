{
 "cells": [
  {
   "cell_type": "markdown",
   "metadata": {},
   "source": [
    "- Ao Chamar a função deverá gerar uma janela de alerta.\n",
    "- Exibir a mensagem \"Falha no carregamento da base {base} na etapa{etapa}. \n",
    "- Exibir a data atual.\n",
    "- Exibir \"Alerta Baixo\" quando nivel = 1, \"Alerta Médio\" quando nivel = 2 e \"Alerta Alto\" quando nivel = 3."
   ]
  },
  {
   "cell_type": "code",
   "execution_count": 27,
   "metadata": {},
   "outputs": [],
   "source": [
    "from plyer import notification\n",
    "\n",
    "def alerta(nivel,base,etapa):\n",
    "    nivel = int(nivel)\n",
    "    nivel_str = \"\"\n",
    "    if nivel == 1:\n",
    "        nivel_str = \"Alerta Baixo\"\n",
    "    elif nivel == 2:\n",
    "        nivel_str = \"Alerta Médio\"\n",
    "    elif nivel == 3:\n",
    "        nivel_str = \"Alerta Alto\"\n",
    "\n",
    "    #notification.notify(f\"ATENÇÃO: {nivel_str} \\n Falha no carregamento da base {base} na etapa {etapa} na data de {hoje} \")\n",
    "    print(f\"ATENÇÃO: {nivel_str} \\n Falha no carregamento da base {base} na etapa {etapa} na data de {hoje} \")\n",
    "    "
   ]
  },
  {
   "cell_type": "code",
   "execution_count": 28,
   "metadata": {},
   "outputs": [
    {
     "name": "stdout",
     "output_type": "stream",
     "text": [
      "2023-11-02\n"
     ]
    }
   ],
   "source": [
    "from datetime import date\n",
    "\n",
    "hoje = date.today()\n",
    "print(hoje)"
   ]
  },
  {
   "cell_type": "code",
   "execution_count": 29,
   "metadata": {},
   "outputs": [
    {
     "name": "stdout",
     "output_type": "stream",
     "text": [
      "ATENÇÃO: Alerta Baixo \n",
      " Falha no carregamento da base quadrado na etapa inicial na data de 2023-11-02 \n"
     ]
    }
   ],
   "source": [
    "alerta(nivel = 1,base = 'quadrado',etapa = 'inicial')\n"
   ]
  }
 ],
 "metadata": {
  "kernelspec": {
   "display_name": "Python 3",
   "language": "python",
   "name": "python3"
  },
  "language_info": {
   "codemirror_mode": {
    "name": "ipython",
    "version": 3
   },
   "file_extension": ".py",
   "mimetype": "text/x-python",
   "name": "python",
   "nbconvert_exporter": "python",
   "pygments_lexer": "ipython3",
   "version": "3.10.7"
  }
 },
 "nbformat": 4,
 "nbformat_minor": 2
}
